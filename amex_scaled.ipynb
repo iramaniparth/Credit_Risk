{
 "cells": [
  {
   "cell_type": "code",
   "execution_count": 1,
   "metadata": {},
   "outputs": [],
   "source": [
    "import pandas as pd\n",
    "import numpy as np\n",
    "import os\n",
    "import matplotlib.pyplot as mlt\n",
    "import seaborn as sns"
   ]
  },
  {
   "cell_type": "code",
   "execution_count": 2,
   "metadata": {},
   "outputs": [],
   "source": [
    "train0 = pd.read_csv('train_scaled.csv')\n",
    "eval0 = pd.read_csv('eval_scaled.csv')"
   ]
  },
  {
   "cell_type": "code",
   "execution_count": 7,
   "metadata": {},
   "outputs": [
    {
     "name": "stdout",
     "output_type": "stream",
     "text": [
      "(80000, 46)\n"
     ]
    },
    {
     "data": {
      "text/plain": [
       "array([0., 1., 1., ..., 1., 0., 1.])"
      ]
     },
     "execution_count": 7,
     "metadata": {},
     "output_type": "execute_result"
    }
   ],
   "source": [
    "train0.head()\n",
    "train=np.array(train0)\n",
    "mn=np.mean(train, axis=0)\n",
    "from sklearn.model_selection import train_test_split\n",
    "X_train, X_test, y_train, y_test = train_test_split(train[:,1:45], train[:,45], random_state=0)\n",
    "print(train.shape)\n",
    "train[:,45]"
   ]
  },
  {
   "cell_type": "code",
   "execution_count": 8,
   "metadata": {},
   "outputs": [
    {
     "name": "stdout",
     "output_type": "stream",
     "text": [
      "Accuracy on training set: 0.820350\n",
      "Accuracy on test set: 0.810650\n"
     ]
    }
   ],
   "source": [
    "#GBM\n",
    "from sklearn.ensemble import GradientBoostingClassifier\n",
    "gbrt1 = GradientBoostingClassifier(random_state=0,max_depth=4, learning_rate=0.1)\n",
    "gbrt1.fit(X_train, y_train)\n",
    "print(\"Accuracy on training set: {:.6f}\".format(gbrt1.score(X_train, y_train)))\n",
    "print(\"Accuracy on test set: {:.6f}\".format(gbrt1.score(X_test, y_test)))"
   ]
  },
  {
   "cell_type": "code",
   "execution_count": 9,
   "metadata": {},
   "outputs": [
    {
     "name": "stdout",
     "output_type": "stream",
     "text": [
      "Accuracy on training set: 0.800900\n",
      "Accuracy on test set: 0.804550\n"
     ]
    }
   ],
   "source": [
    "#LR\n",
    "from sklearn.linear_model import LogisticRegression\n",
    "from sklearn.datasets import make_classification\n",
    "clf = LogisticRegression(random_state=0,penalty = 'l1')\n",
    "clf.fit(X_train, y_train)\n",
    "print(\"Accuracy on training set: {:.6f}\".format(clf.score(X_train, y_train)))\n",
    "print(\"Accuracy on test set: {:.6f}\".format(clf.score(X_test, y_test)))"
   ]
  },
  {
   "cell_type": "code",
   "execution_count": 23,
   "metadata": {},
   "outputs": [
    {
     "data": {
      "text/plain": [
       "(25000, 44)"
      ]
     },
     "execution_count": 23,
     "metadata": {},
     "output_type": "execute_result"
    }
   ],
   "source": [
    "eval1.shape"
   ]
  },
  {
   "cell_type": "code",
   "execution_count": 24,
   "metadata": {},
   "outputs": [],
   "source": [
    "eval1=np.array(eval0.iloc[:,1:])\n",
    "ynew = gbrt1.predict_proba(eval1)"
   ]
  },
  {
   "cell_type": "code",
   "execution_count": 26,
   "metadata": {},
   "outputs": [],
   "source": [
    "d=pd.DataFrame()\n",
    "d['application_key']=eval0['application_key']\n",
    "d['0']=ynew[:,0]\n",
    "d['1']=ynew[:,1]\n",
    "\n",
    "y=gbrt1.predict(eval1)\n",
    "\n",
    "d['pred']=y\n",
    "d['max']=d[['0', '1']].max(axis=1)\n",
    "d['max']=d['max'].apply(lambda x: round(x, 3))\n",
    "d['max2']=d['max']-0.0001*d['pred']\n",
    "d = d.sort_values(by = ['max2'], ascending = False)\n",
    "\n",
    "sub1 = d[['application_key', 'pred']]\n",
    "sub1.to_csv('The_miner_league_IITGuwahati_13.csv', header = False, index = False)"
   ]
  },
  {
   "cell_type": "code",
   "execution_count": null,
   "metadata": {},
   "outputs": [],
   "source": []
  }
 ],
 "metadata": {
  "kernelspec": {
   "display_name": "Python 3",
   "language": "python",
   "name": "python3"
  },
  "language_info": {
   "codemirror_mode": {
    "name": "ipython",
    "version": 3
   },
   "file_extension": ".py",
   "mimetype": "text/x-python",
   "name": "python",
   "nbconvert_exporter": "python",
   "pygments_lexer": "ipython3",
   "version": "3.6.5"
  }
 },
 "nbformat": 4,
 "nbformat_minor": 2
}
