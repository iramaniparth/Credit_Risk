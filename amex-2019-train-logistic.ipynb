{
 "cells": [
  {
   "cell_type": "code",
   "execution_count": 2,
   "metadata": {},
   "outputs": [],
   "source": [
    "import pandas as pd\n",
    "import numpy as np\n",
    "import os\n",
    "import matplotlib.pyplot as mlt\n",
    "import seaborn as sns\n",
    "mlt.style.use('fivethirtyeight')\n",
    "from scipy import stats\n",
    "from scipy.stats import norm,skew\n",
    "from sklearn.cluster import KMeans"
   ]
  },
  {
   "cell_type": "code",
   "execution_count": 6,
   "metadata": {
    "scrolled": true
   },
   "outputs": [
    {
     "name": "stderr",
     "output_type": "stream",
     "text": [
      "C:\\Users\\iramaniparth\\Anaconda3\\lib\\site-packages\\pandas\\core\\indexing.py:189: SettingWithCopyWarning: \n",
      "A value is trying to be set on a copy of a slice from a DataFrame\n",
      "\n",
      "See the caveats in the documentation: http://pandas.pydata.org/pandas-docs/stable/indexing.html#indexing-view-versus-copy\n",
      "  self._setitem_with_indexer(indexer, value)\n"
     ]
    }
   ],
   "source": [
    "train = pd.read_csv('amex.csv')\n",
    "train.drop(['Unnamed: 0','mvar16','mvar19','mvar17'],axis=1,inplace=True)\n",
    "train.head()\n",
    "test=pd.read_csv('amextest.csv')\n",
    "test.drop(['Unnamed: 0','mvar16','mvar19','mvar17'],axis=1,inplace=True)\n",
    "train['mvar47'].loc[train['mvar47'] == 'L'] = 0\n",
    "train['mvar47'].loc[train['mvar47'] == 'C'] = 1\n",
    "test['mvar47'].loc[test['mvar47'] == 'L'] = 0\n",
    "test['mvar47'].loc[test['mvar47'] == 'C'] = 1\n",
    "kall = train.iloc[:,1:45]\n",
    "kalltr = kall.dropna()\n",
    "\n",
    "values = kall.values\n",
    "\n",
    "from sklearn.preprocessing import Imputer\n",
    "imputer = Imputer()\n",
    "\n",
    "transformed_values = imputer.fit_transform(values)\n",
    "\n",
    "X = pd.DataFrame(transformed_values)\n",
    "X.columns = kall.columns\n",
    "\n",
    "for index in X.columns:\n",
    "    train[index]=X[index]"
   ]
  },
  {
   "cell_type": "code",
   "execution_count": 7,
   "metadata": {},
   "outputs": [],
   "source": [
    "kall = test.iloc[:,1:45]\n",
    "kalltr = kall.dropna()\n",
    "\n",
    "values = kall.values\n",
    "\n",
    "from sklearn.preprocessing import Imputer\n",
    "imputer = Imputer()\n",
    "\n",
    "transformed_values = imputer.fit_transform(values)\n",
    "\n",
    "X = pd.DataFrame(transformed_values)\n",
    "X.columns = kall.columns\n",
    "\n",
    "for index in X.columns:\n",
    "    test[index]=X[index]"
   ]
  },
  {
   "cell_type": "code",
   "execution_count": 8,
   "metadata": {},
   "outputs": [
    {
     "name": "stdout",
     "output_type": "stream",
     "text": [
      "(80000, 46)\n"
     ]
    },
    {
     "data": {
      "text/plain": [
       "array([0., 1., 1., ..., 1., 0., 1.])"
      ]
     },
     "execution_count": 8,
     "metadata": {},
     "output_type": "execute_result"
    }
   ],
   "source": [
    "train.head()\n",
    "train0=np.array(train)\n",
    "from sklearn.model_selection import train_test_split\n",
    "X_train, X_test, y_train, y_test = train_test_split(train0[:,1:45], train0[:,45], random_state=0)\n",
    "print(train0.shape)\n",
    "train0[:,45]"
   ]
  },
  {
   "cell_type": "code",
   "execution_count": 11,
   "metadata": {},
   "outputs": [
    {
     "name": "stdout",
     "output_type": "stream",
     "text": [
      "Accuracy on training set: 0.800517\n",
      "Accuracy on test set: 0.804350\n"
     ]
    }
   ],
   "source": [
    "from sklearn.linear_model import LogisticRegression\n",
    "from sklearn.datasets import make_classification\n",
    "clf = LogisticRegression(random_state=0,penalty = 'l1')\n",
    "clf.fit(train0[:,1:45], train0[:,45])\n",
    "print(\"Accuracy on training set: {:.6f}\".format(clf.score(X_train, y_train)))\n",
    "print(\"Accuracy on test set: {:.6f}\".format(clf.score(X_test, y_test)))"
   ]
  },
  {
   "cell_type": "code",
   "execution_count": 12,
   "metadata": {},
   "outputs": [],
   "source": [
    "ynew = clf.predict_proba(X_test)"
   ]
  },
  {
   "cell_type": "code",
   "execution_count": 13,
   "metadata": {
    "scrolled": true
   },
   "outputs": [
    {
     "data": {
      "text/plain": [
       "array([[0.84435551, 0.15564449],\n",
       "       [0.39975296, 0.60024704],\n",
       "       [0.63053489, 0.36946511],\n",
       "       ...,\n",
       "       [0.9630699 , 0.0369301 ],\n",
       "       [0.89150276, 0.10849724],\n",
       "       [0.99637674, 0.00362326]])"
      ]
     },
     "execution_count": 13,
     "metadata": {},
     "output_type": "execute_result"
    }
   ],
   "source": [
    "ynew"
   ]
  },
  {
   "cell_type": "code",
   "execution_count": 16,
   "metadata": {},
   "outputs": [],
   "source": [
    "test0=np.array(test.iloc[:,1:])\n",
    "ynew = clf.predict_proba(test0)"
   ]
  },
  {
   "cell_type": "code",
   "execution_count": 11,
   "metadata": {},
   "outputs": [
    {
     "name": "stderr",
     "output_type": "stream",
     "text": [
      "C:\\Users\\iramaniparth\\Anaconda3\\lib\\site-packages\\pandas\\core\\indexing.py:189: SettingWithCopyWarning: \n",
      "A value is trying to be set on a copy of a slice from a DataFrame\n",
      "\n",
      "See the caveats in the documentation: http://pandas.pydata.org/pandas-docs/stable/indexing.html#indexing-view-versus-copy\n",
      "  self._setitem_with_indexer(indexer, value)\n"
     ]
    }
   ],
   "source": [
    "test=pd.read_csv('amextest.csv')\n",
    "\n",
    "\n",
    "test['mvar47'].loc[test['mvar47'] == 'L'] = 0\n",
    "test['mvar47'].loc[test['mvar47'] == 'C'] = 1"
   ]
  },
  {
   "cell_type": "code",
   "execution_count": 18,
   "metadata": {},
   "outputs": [],
   "source": [
    "d=pd.DataFrame()\n",
    "d['application_key']=test['application_key']\n",
    "d['0']=ynew[:,0]\n",
    "d['1']=ynew[:,1]"
   ]
  },
  {
   "cell_type": "code",
   "execution_count": 19,
   "metadata": {},
   "outputs": [],
   "source": [
    "y=clf.predict(test0)"
   ]
  },
  {
   "cell_type": "code",
   "execution_count": 20,
   "metadata": {},
   "outputs": [],
   "source": [
    "d['pred']=y\n",
    "\n",
    "d['max']=d[['0', '1']].max(axis=1)\n",
    "\n",
    "d['max']=d['max'].apply(lambda x: round(x, 2))\n",
    "\n",
    "d['max2']=d['max']-0.001*d['pred']\n",
    "d = d.sort_values(by = ['max2'], ascending = False)"
   ]
  },
  {
   "cell_type": "code",
   "execution_count": 21,
   "metadata": {},
   "outputs": [],
   "source": [
    "sub1 = d[['application_key', 'pred']]"
   ]
  },
  {
   "cell_type": "code",
   "execution_count": 22,
   "metadata": {},
   "outputs": [],
   "source": [
    "sub1.to_csv('The_miner_league_IITGuwahati_25.csv', header = False, index = False)"
   ]
  }
 ],
 "metadata": {
  "kernelspec": {
   "display_name": "Python 3",
   "language": "python",
   "name": "python3"
  },
  "language_info": {
   "codemirror_mode": {
    "name": "ipython",
    "version": 3
   },
   "file_extension": ".py",
   "mimetype": "text/x-python",
   "name": "python",
   "nbconvert_exporter": "python",
   "pygments_lexer": "ipython3",
   "version": "3.6.5"
  }
 },
 "nbformat": 4,
 "nbformat_minor": 2
}
