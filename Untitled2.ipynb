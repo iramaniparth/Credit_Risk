{
 "cells": [
  {
   "cell_type": "code",
   "execution_count": 24,
   "metadata": {},
   "outputs": [],
   "source": [
    "import pandas as pd\n",
    "import numpy as np"
   ]
  },
  {
   "cell_type": "code",
   "execution_count": 48,
   "metadata": {},
   "outputs": [
    {
     "name": "stderr",
     "output_type": "stream",
     "text": [
      "C:\\Users\\iramaniparth\\Anaconda3\\lib\\site-packages\\pandas\\core\\indexing.py:189: SettingWithCopyWarning: \n",
      "A value is trying to be set on a copy of a slice from a DataFrame\n",
      "\n",
      "See the caveats in the documentation: http://pandas.pydata.org/pandas-docs/stable/indexing.html#indexing-view-versus-copy\n",
      "  self._setitem_with_indexer(indexer, value)\n"
     ]
    }
   ],
   "source": [
    "train = pd.read_csv('amex.csv')\n",
    "train.drop(['Unnamed: 0'],axis=1,inplace=True)\n",
    "train.head()\n",
    "test=pd.read_csv('amextest.csv')\n",
    "test.drop(['Unnamed: 0'],axis=1,inplace=True)\n",
    "train['mvar47'].loc[train['mvar47'] == 'L'] = 0\n",
    "train['mvar47'].loc[train['mvar47'] == 'C'] = 1\n",
    "test['mvar47'].loc[test['mvar47'] == 'L'] = 0\n",
    "test['mvar47'].loc[test['mvar47'] == 'C'] = 1\n",
    "kall = train.iloc[:,1:48]\n",
    "kalltr = kall.dropna()\n",
    "\n",
    "values = kall.values\n",
    "\n",
    "from sklearn.preprocessing import Imputer\n",
    "imputer = Imputer()\n",
    "\n",
    "transformed_values = imputer.fit_transform(values)\n",
    "\n",
    "X = pd.DataFrame(transformed_values)\n",
    "X.columns = kall.columns\n",
    "\n",
    "for index in X.columns:\n",
    "    train[index]=X[index]"
   ]
  },
  {
   "cell_type": "code",
   "execution_count": 49,
   "metadata": {},
   "outputs": [],
   "source": [
    "kall = test.iloc[:,1:48]\n",
    "kalltr = kall.dropna()\n",
    "\n",
    "values = kall.values\n",
    "\n",
    "from sklearn.preprocessing import Imputer\n",
    "imputer = Imputer()\n",
    "\n",
    "transformed_values = imputer.fit_transform(values)\n",
    "\n",
    "X = pd.DataFrame(transformed_values)\n",
    "X.columns = kall.columns\n",
    "\n",
    "for index in X.columns:\n",
    "    test[index]=X[index]"
   ]
  },
  {
   "cell_type": "code",
   "execution_count": 50,
   "metadata": {},
   "outputs": [],
   "source": [
    "ytrain = train['default_ind']\n",
    "train.drop(['default_ind'], axis=1, inplace=True)"
   ]
  },
  {
   "cell_type": "code",
   "execution_count": 51,
   "metadata": {
    "scrolled": true
   },
   "outputs": [],
   "source": [
    "train['mvar161718'] = train[['mvar16', 'mvar17', 'mvar18']].sum(axis=1)\n",
    "train.drop(['mvar16', 'mvar17', 'mvar18'], axis=1, inplace=True)"
   ]
  },
  {
   "cell_type": "code",
   "execution_count": 52,
   "metadata": {
    "scrolled": true
   },
   "outputs": [],
   "source": [
    "test['mvar161718'] = test[['mvar16', 'mvar17', 'mvar18']].sum(axis=1)\n",
    "test.drop(['mvar16', 'mvar17', 'mvar18'], axis=1, inplace=True)"
   ]
  },
  {
   "cell_type": "code",
   "execution_count": 56,
   "metadata": {
    "scrolled": true
   },
   "outputs": [
    {
     "name": "stdout",
     "output_type": "stream",
     "text": [
      "(80000, 46)\n"
     ]
    },
    {
     "data": {
      "text/plain": [
       "0        0\n",
       "1        1\n",
       "2        1\n",
       "3        0\n",
       "4        0\n",
       "5        1\n",
       "6        1\n",
       "7        0\n",
       "8        0\n",
       "9        0\n",
       "10       0\n",
       "11       0\n",
       "12       0\n",
       "13       0\n",
       "14       0\n",
       "15       0\n",
       "16       0\n",
       "17       0\n",
       "18       1\n",
       "19       0\n",
       "20       0\n",
       "21       0\n",
       "22       1\n",
       "23       0\n",
       "24       1\n",
       "25       0\n",
       "26       0\n",
       "27       0\n",
       "28       0\n",
       "29       0\n",
       "        ..\n",
       "79970    0\n",
       "79971    0\n",
       "79972    0\n",
       "79973    0\n",
       "79974    0\n",
       "79975    0\n",
       "79976    0\n",
       "79977    0\n",
       "79978    0\n",
       "79979    1\n",
       "79980    0\n",
       "79981    0\n",
       "79982    1\n",
       "79983    0\n",
       "79984    0\n",
       "79985    0\n",
       "79986    0\n",
       "79987    0\n",
       "79988    0\n",
       "79989    0\n",
       "79990    0\n",
       "79991    0\n",
       "79992    1\n",
       "79993    1\n",
       "79994    0\n",
       "79995    0\n",
       "79996    0\n",
       "79997    1\n",
       "79998    0\n",
       "79999    1\n",
       "Name: default_ind, Length: 80000, dtype: int64"
      ]
     },
     "execution_count": 56,
     "metadata": {},
     "output_type": "execute_result"
    }
   ],
   "source": [
    "train.head()\n",
    "train0=np.array(train)\n",
    "ytrain0=np.array(ytrain)\n",
    "mn=np.mean(train0, axis=0)\n",
    "from sklearn.model_selection import train_test_split\n",
    "X_train, X_test, y_train, y_test = train_test_split(train0[:,1:46], ytrain, random_state=0, test_size = 0.25)\n",
    "print(train0.shape)\n",
    "ytrain"
   ]
  },
  {
   "cell_type": "code",
   "execution_count": 57,
   "metadata": {},
   "outputs": [
    {
     "name": "stdout",
     "output_type": "stream",
     "text": [
      "Accuracy on training set: 0.819950\n",
      "Accuracy on test set: 0.810750\n"
     ]
    }
   ],
   "source": [
    "from sklearn.ensemble import GradientBoostingClassifier\n",
    "gbrt1 = GradientBoostingClassifier(random_state=0,max_depth=4, learning_rate=0.1)\n",
    "gbrt1.fit(X_train, y_train)\n",
    "print(\"Accuracy on training set: {:.6f}\".format(gbrt1.score(X_train, y_train)))\n",
    "print(\"Accuracy on test set: {:.6f}\".format(gbrt1.score(X_test, y_test)))"
   ]
  },
  {
   "cell_type": "code",
   "execution_count": 58,
   "metadata": {
    "scrolled": true
   },
   "outputs": [],
   "source": [
    "test0=np.array(test.iloc[:,1:])\n",
    "ynew = gbrt1.predict_proba(test0)\n",
    "\n",
    "ynew\n",
    "\n",
    "d=pd.DataFrame()\n",
    "d['application_key']=test['application_key']\n",
    "d['0']=ynew[:,0]\n",
    "d['1']=ynew[:,1]\n",
    "\n",
    "y=gbrt1.predict(test0)\n",
    "\n",
    "d['pred']=y\n",
    "\n",
    "d['max']=d[['0', '1']].max(axis=1)\n",
    "\n",
    "d['max']=d['max'].apply(lambda x: round(x, 2))\n",
    "\n",
    "d['max2']=d['max']-0.001*d['pred']\n",
    "d = d.sort_values(by = ['max2'], ascending = False)\n",
    "\n",
    "sub1 = d[['application_key', 'pred']]\n",
    "\n",
    "sub1.to_csv('The_miner_league_IITGuwahati_33.csv', header = False, index = False)"
   ]
  }
 ],
 "metadata": {
  "kernelspec": {
   "display_name": "Python 3",
   "language": "python",
   "name": "python3"
  },
  "language_info": {
   "codemirror_mode": {
    "name": "ipython",
    "version": 3
   },
   "file_extension": ".py",
   "mimetype": "text/x-python",
   "name": "python",
   "nbconvert_exporter": "python",
   "pygments_lexer": "ipython3",
   "version": "3.6.5"
  }
 },
 "nbformat": 4,
 "nbformat_minor": 2
}
