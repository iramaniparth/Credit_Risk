{
 "cells": [
  {
   "cell_type": "code",
   "execution_count": 137,
   "metadata": {},
   "outputs": [],
   "source": [
    "import pandas as pd\n",
    "import numpy as np"
   ]
  },
  {
   "cell_type": "code",
   "execution_count": 138,
   "metadata": {},
   "outputs": [],
   "source": [
    "c50 = pd.read_csv('C50_nonscaled.csv')\n",
    "gbm = pd.read_csv('gbm_nonscaled.csv')\n",
    "lr = pd.read_csv('lr_nonscaled.csv')"
   ]
  },
  {
   "cell_type": "code",
   "execution_count": 139,
   "metadata": {
    "scrolled": true
   },
   "outputs": [],
   "source": [
    "c50.columns = ['application_key_c50', 'pred_c50', '0_c50', '1_c50']\n",
    "gbm.columns = ['application_key_gbm', 'pred_gbm', '0_gbm', '1_gbm']\n",
    "lr.columns = ['application_key_lr', 'pred_lr', '0_lr', '1_lr']"
   ]
  },
  {
   "cell_type": "code",
   "execution_count": 140,
   "metadata": {},
   "outputs": [],
   "source": [
    "ens = pd.concat([c50, gbm, lr], axis=1)"
   ]
  },
  {
   "cell_type": "code",
   "execution_count": 141,
   "metadata": {
    "scrolled": true
   },
   "outputs": [],
   "source": [
    "ens['vote'] = ens[['pred_c50', 'pred_gbm', 'pred_lr']].mode(axis=1)[0]"
   ]
  },
  {
   "cell_type": "code",
   "execution_count": 142,
   "metadata": {},
   "outputs": [],
   "source": [
    "ens['maxconf'] = ens[['0_c50', '0_gbm', '0_lr']].loc[ens['vote'] == 0].max(axis=1)\n",
    "ens.loc[ens['maxconf'].isnull(), 'maxconf'] = ens[['1_c50', '1_gbm', '1_lr']].loc[ens['vote'] == 1].max(axis=1)"
   ]
  },
  {
   "cell_type": "code",
   "execution_count": 143,
   "metadata": {},
   "outputs": [],
   "source": [
    "ens['maxround'] = ens['maxconf'].apply(lambda x: round(x, 3))\n",
    "ens['max'] = ens['maxround']-0.0001*ens['vote']"
   ]
  },
  {
   "cell_type": "code",
   "execution_count": 144,
   "metadata": {},
   "outputs": [],
   "source": [
    "d = ens[['application_key_gbm', 'vote', 'max']]\n",
    "d = d.sort_values(by = 'max', ascending = False)\n",
    "sub = d[['application_key_gbm', 'vote']]"
   ]
  },
  {
   "cell_type": "code",
   "execution_count": 148,
   "metadata": {},
   "outputs": [],
   "source": [
    "sub.to_csv('The_miner_league_IITGuwahati_15.csv', header = False, index = False)"
   ]
  }
 ],
 "metadata": {
  "kernelspec": {
   "display_name": "Python 3",
   "language": "python",
   "name": "python3"
  },
  "language_info": {
   "codemirror_mode": {
    "name": "ipython",
    "version": 3
   },
   "file_extension": ".py",
   "mimetype": "text/x-python",
   "name": "python",
   "nbconvert_exporter": "python",
   "pygments_lexer": "ipython3",
   "version": "3.6.5"
  }
 },
 "nbformat": 4,
 "nbformat_minor": 2
}
